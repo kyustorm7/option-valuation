{
  "nbformat": 4,
  "nbformat_minor": 0,
  "metadata": {
    "colab": {
      "name": "Example of optionval.ipynb",
      "provenance": []
    },
    "kernelspec": {
      "name": "python3",
      "display_name": "Python 3"
    }
  },
  "cells": [
    {
      "cell_type": "code",
      "metadata": {
        "colab": {
          "base_uri": "https://localhost:8080/"
        },
        "id": "vgIGCUX-A-Fj",
        "outputId": "9247d3af-5763-459a-b87a-e96d18caa0e0"
      },
      "source": [
        "! pip install git+https://github.com/kyustorm7/option-valuation"
      ],
      "execution_count": 1,
      "outputs": [
        {
          "output_type": "stream",
          "text": [
            "Collecting git+https://github.com/kyustorm7/option-valuation\n",
            "  Cloning https://github.com/kyustorm7/option-valuation to /tmp/pip-req-build-nbem5pz_\n",
            "  Running command git clone -q https://github.com/kyustorm7/option-valuation /tmp/pip-req-build-nbem5pz_\n",
            "Requirement already satisfied: scipy in /usr/local/lib/python3.6/dist-packages (from optionval==0.0.1) (1.4.1)\n",
            "Requirement already satisfied: matplotlib in /usr/local/lib/python3.6/dist-packages (from optionval==0.0.1) (3.2.2)\n",
            "Requirement already satisfied: numpy in /usr/local/lib/python3.6/dist-packages (from optionval==0.0.1) (1.19.5)\n",
            "Requirement already satisfied: pandas in /usr/local/lib/python3.6/dist-packages (from optionval==0.0.1) (1.1.5)\n",
            "Requirement already satisfied: cycler>=0.10 in /usr/local/lib/python3.6/dist-packages (from matplotlib->optionval==0.0.1) (0.10.0)\n",
            "Requirement already satisfied: python-dateutil>=2.1 in /usr/local/lib/python3.6/dist-packages (from matplotlib->optionval==0.0.1) (2.8.1)\n",
            "Requirement already satisfied: kiwisolver>=1.0.1 in /usr/local/lib/python3.6/dist-packages (from matplotlib->optionval==0.0.1) (1.3.1)\n",
            "Requirement already satisfied: pyparsing!=2.0.4,!=2.1.2,!=2.1.6,>=2.0.1 in /usr/local/lib/python3.6/dist-packages (from matplotlib->optionval==0.0.1) (2.4.7)\n",
            "Requirement already satisfied: pytz>=2017.2 in /usr/local/lib/python3.6/dist-packages (from pandas->optionval==0.0.1) (2018.9)\n",
            "Requirement already satisfied: six in /usr/local/lib/python3.6/dist-packages (from cycler>=0.10->matplotlib->optionval==0.0.1) (1.15.0)\n",
            "Building wheels for collected packages: optionval\n",
            "  Building wheel for optionval (setup.py) ... \u001b[?25l\u001b[?25hdone\n",
            "  Created wheel for optionval: filename=optionval-0.0.1-cp36-none-any.whl size=4678 sha256=5fc7abf72a6007c0f49aac656e38d2d6277a901af572314e98ee9a5819adc6ce\n",
            "  Stored in directory: /tmp/pip-ephem-wheel-cache-sudikcza/wheels/b0/37/0a/8c053dd4535ee4fb71a11b261b526a276bff58b929105146b1\n",
            "Successfully built optionval\n",
            "Installing collected packages: optionval\n",
            "Successfully installed optionval-0.0.1\n"
          ],
          "name": "stdout"
        }
      ]
    },
    {
      "cell_type": "code",
      "metadata": {
        "id": "wgnuOto4ERbE"
      },
      "source": [
        ""
      ],
      "execution_count": null,
      "outputs": []
    },
    {
      "cell_type": "markdown",
      "metadata": {
        "id": "V2dtWZt4ER-6"
      },
      "source": [
        "#Blackscholes (import optionval.values)\r\n",
        "\r\n",
        "C: 콜옵션 가격 / Call option price  \r\n",
        "P: 풋옵션 가격/ Put option price     \r\n",
        "N: 정규분포함수 / CDF of the normal distribution  \r\n",
        "S: 주식 현물 가격 / Current value of underlying asset  \r\n",
        "E: 옵션 행사가 / Exercise price  \r\n",
        "r: 무위험 이자율 / Annual risk-free interest rate over the period from now to expiration date   \r\n",
        "T: 총 년도수 / Time to expiration date(in years)  \r\n",
        "sigma: 변동성 지수 / Standard deviation (per year) of continuous stock returns"
      ]
    },
    {
      "cell_type": "markdown",
      "metadata": {
        "id": "EZCgYAcbEYU9"
      },
      "source": [
        "## $d_1 = \\frac{ln(\\frac{S}{E}) + (r+\\frac{\\sigma^2}{2})T}{\\sigma \\sqrt{T}}$  \r\n",
        "## $d_2 = d_1 - \\sigma \\sqrt{T}$"
      ]
    },
    {
      "cell_type": "code",
      "metadata": {
        "colab": {
          "base_uri": "https://localhost:8080/"
        },
        "id": "Cdvl4mrY93Bu",
        "outputId": "4ffe4033-880a-48af-d4b7-b366efc02129"
      },
      "source": [
        "from optionval.values import d1\r\n",
        "\r\n",
        "# Calculate d1 value used in blackscholes model with the arguments\r\n",
        "d1(S=50, E=50, T=5/12, r=0.1, sigma=0.4)"
      ],
      "execution_count": 2,
      "outputs": [
        {
          "output_type": "execute_result",
          "data": {
            "text/plain": [
              "0.1210307295689818"
            ]
          },
          "metadata": {
            "tags": []
          },
          "execution_count": 2
        }
      ]
    },
    {
      "cell_type": "code",
      "metadata": {
        "colab": {
          "base_uri": "https://localhost:8080/"
        },
        "id": "0MiYXzCS97iq",
        "outputId": "da3ac9f5-9489-4acf-a36c-ab13e5299b9e"
      },
      "source": [
        "from optionval.values import d2\r\n",
        "\r\n",
        "# Calculate d2 value used in blackscholes model with the arguments\r\n",
        "d2(S=50, E=50, T=5/12, r=0.1, sigma=0.4)"
      ],
      "execution_count": 3,
      "outputs": [
        {
          "output_type": "execute_result",
          "data": {
            "text/plain": [
              "-0.13716816017817934"
            ]
          },
          "metadata": {
            "tags": []
          },
          "execution_count": 3
        }
      ]
    },
    {
      "cell_type": "markdown",
      "metadata": {
        "id": "LZ2FjbnuEbYT"
      },
      "source": [
        "**Vega** measures sensitivity to volatility. Vega is the derivative of the option value with respect to the volatility of the underlying asset.  \r\n",
        "**Theta** measures the sensitivity of the value of the derivative to the passage of time (see Option time value): the \"time decay.\"  \r\n",
        "**Gamma** measures the rate of change in the delta with respect to changes in the underlying price. Gamma is the second derivative of the value function with respect to the underlying price.  \r\n",
        "**Rho** measures sensitivity to the interest rate: it is the derivative of the option value with respect to the risk free interest rate (for the relevant outstanding term).\r\n",
        "\r\n",
        "https://en.wikipedia.org/wiki/Greeks_(finance)#Vega <- 참고"
      ]
    },
    {
      "cell_type": "code",
      "metadata": {
        "colab": {
          "base_uri": "https://localhost:8080/"
        },
        "id": "OIPborJT-ESS",
        "outputId": "12e14d3b-a4ba-46b9-bd06-ca3e18d3ba73"
      },
      "source": [
        "from optionval.values import call_delta\r\n",
        "\r\n",
        "# Calculate delta in call option with the arguments\r\n",
        "call_delta(S=50, E=50, T=5/12, r=0.1, sigma=0.4)"
      ],
      "execution_count": 4,
      "outputs": [
        {
          "output_type": "execute_result",
          "data": {
            "text/plain": [
              "0.5481666522875089"
            ]
          },
          "metadata": {
            "tags": []
          },
          "execution_count": 4
        }
      ]
    },
    {
      "cell_type": "code",
      "metadata": {
        "colab": {
          "base_uri": "https://localhost:8080/"
        },
        "id": "3DmB-C4u-Mzh",
        "outputId": "fef3f56e-9ab7-4ec1-ed76-397cbe12c645"
      },
      "source": [
        "from optionval.values import call_gamma\r\n",
        "\r\n",
        "# Calculate gamma in call option with the arguments\r\n",
        "call_gamma(S=50, E=50, T=5/12, r=0.1, sigma=0.4)"
      ],
      "execution_count": 5,
      "outputs": [
        {
          "output_type": "execute_result",
          "data": {
            "text/plain": [
              "0.030676430456253966"
            ]
          },
          "metadata": {
            "tags": []
          },
          "execution_count": 5
        }
      ]
    },
    {
      "cell_type": "code",
      "metadata": {
        "colab": {
          "base_uri": "https://localhost:8080/"
        },
        "id": "iwVWbdUg-grV",
        "outputId": "ee940957-737f-4b80-edd3-2ba8df0e5548"
      },
      "source": [
        "from optionval.values import call_vega\r\n",
        "\r\n",
        "#Calculate vega in call option with the arguments\r\n",
        "call_vega(S=50, E=50, T=5/12, r=0.1, sigma=0.4)"
      ],
      "execution_count": 6,
      "outputs": [
        {
          "output_type": "execute_result",
          "data": {
            "text/plain": [
              "0.12781846023439153"
            ]
          },
          "metadata": {
            "tags": []
          },
          "execution_count": 6
        }
      ]
    },
    {
      "cell_type": "code",
      "metadata": {
        "colab": {
          "base_uri": "https://localhost:8080/"
        },
        "id": "5rUJzMsg-gdX",
        "outputId": "ebd84035-015a-48de-db10-634dc2039b94"
      },
      "source": [
        "from optionval.values import call_theta\r\n",
        "\r\n",
        "# Calculate theta in call option with the arguments\r\n",
        "call_theta(S=50, E=50, T=5/12, r=0.1, sigma=0.4)"
      ],
      "execution_count": 7,
      "outputs": [
        {
          "output_type": "execute_result",
          "data": {
            "text/plain": [
              "-0.08271635719860926"
            ]
          },
          "metadata": {
            "tags": []
          },
          "execution_count": 7
        }
      ]
    },
    {
      "cell_type": "code",
      "metadata": {
        "colab": {
          "base_uri": "https://localhost:8080/"
        },
        "id": "27u9G7B4-gXw",
        "outputId": "16360d86-339e-474e-e0c6-0b387661bd12"
      },
      "source": [
        "from optionval.values import call_rho\r\n",
        "\r\n",
        "# Calculate rho in call option with the arguments\r\n",
        "call_rho(S=50, E=50, T=5/12, r=0.1, sigma=0.4)"
      ],
      "execution_count": 8,
      "outputs": [
        {
          "output_type": "execute_result",
          "data": {
            "text/plain": [
              "0.08901456785875553"
            ]
          },
          "metadata": {
            "tags": []
          },
          "execution_count": 8
        }
      ]
    },
    {
      "cell_type": "code",
      "metadata": {
        "colab": {
          "base_uri": "https://localhost:8080/"
        },
        "id": "OwK3fmPY_Quc",
        "outputId": "7d3eba8c-12e1-4715-f4b6-a4351c3e7385"
      },
      "source": [
        "from optionval.values import put_delta\r\n",
        "\r\n",
        "# Calculate delta in put option with the arguments\r\n",
        "put_delta(S=50, E=50, T=5/12, r=0.1, sigma=0.4)"
      ],
      "execution_count": 9,
      "outputs": [
        {
          "output_type": "execute_result",
          "data": {
            "text/plain": [
              "-0.45183334771249106"
            ]
          },
          "metadata": {
            "tags": []
          },
          "execution_count": 9
        }
      ]
    },
    {
      "cell_type": "code",
      "metadata": {
        "colab": {
          "base_uri": "https://localhost:8080/"
        },
        "id": "t46aFJGh_QkN",
        "outputId": "442626bf-16ba-4181-af97-76dec82b29b0"
      },
      "source": [
        "from optionval.values import put_gamma\r\n",
        "\r\n",
        "# Calculate gamma in put option with the arguments\r\n",
        "put_gamma(S=50, E=50, T=5/12, r=0.1, sigma=0.4)"
      ],
      "execution_count": 10,
      "outputs": [
        {
          "output_type": "execute_result",
          "data": {
            "text/plain": [
              "0.030676430456253966"
            ]
          },
          "metadata": {
            "tags": []
          },
          "execution_count": 10
        }
      ]
    },
    {
      "cell_type": "code",
      "metadata": {
        "colab": {
          "base_uri": "https://localhost:8080/"
        },
        "id": "kgRDInhB_-lQ",
        "outputId": "339c991d-b822-4a35-d5f2-1d9136abffcb"
      },
      "source": [
        "from optionval.values import put_vega\r\n",
        "\r\n",
        "# Calculate vega in put option with the arguments\r\n",
        "put_vega(S=50, E=50, T=5/12, r=0.1, sigma=0.4)"
      ],
      "execution_count": 11,
      "outputs": [
        {
          "output_type": "execute_result",
          "data": {
            "text/plain": [
              "0.12781846023439153"
            ]
          },
          "metadata": {
            "tags": []
          },
          "execution_count": 11
        }
      ]
    },
    {
      "cell_type": "code",
      "metadata": {
        "colab": {
          "base_uri": "https://localhost:8080/"
        },
        "id": "w5ChUPDd_-cG",
        "outputId": "f476fc80-3766-462d-caea-4de2a1697180"
      },
      "source": [
        "from optionval.values import put_theta\r\n",
        "\r\n",
        "# Calculate theta in put option with the arguments\r\n",
        "put_theta(S=50, E=50, T=5/12, r=0.1, sigma=0.4)"
      ],
      "execution_count": 12,
      "outputs": [
        {
          "output_type": "execute_result",
          "data": {
            "text/plain": [
              "-0.03475688434315235"
            ]
          },
          "metadata": {
            "tags": []
          },
          "execution_count": 12
        }
      ]
    },
    {
      "cell_type": "code",
      "metadata": {
        "colab": {
          "base_uri": "https://localhost:8080/"
        },
        "id": "EeNtx7EU_-Ud",
        "outputId": "84fc1bfc-6dda-47ed-f2ec-ef5255634608"
      },
      "source": [
        "from optionval.values import put_rho\r\n",
        "\r\n",
        "# Calculate rho in put option with the arguments\r\n",
        "put_rho(S=50, E=50, T=5/12, r=0.1, sigma=0.4)"
      ],
      "execution_count": 13,
      "outputs": [
        {
          "output_type": "execute_result",
          "data": {
            "text/plain": [
              "-0.11081656903898161"
            ]
          },
          "metadata": {
            "tags": []
          },
          "execution_count": 13
        }
      ]
    },
    {
      "cell_type": "code",
      "metadata": {
        "colab": {
          "base_uri": "https://localhost:8080/"
        },
        "id": "jonaDC9kttuD",
        "outputId": "df598805-36a7-4282-d2e9-b3b352a9f760"
      },
      "source": [
        "from optionval.values import blackscholes\r\n",
        "\r\n",
        "# Calculate option value through blackscholes model with the arguments\r\n",
        "blackscholes(S=50, E=50, T=5/12, r=0.1, sigma=0.4, PutCall='C')"
      ],
      "execution_count": 14,
      "outputs": [
        {
          "output_type": "execute_result",
          "data": {
            "text/plain": [
              "6.044836328274123"
            ]
          },
          "metadata": {
            "tags": []
          },
          "execution_count": 14
        }
      ]
    },
    {
      "cell_type": "markdown",
      "metadata": {
        "id": "AvmPjHKFEgAu"
      },
      "source": [
        "## $\\sigma_r^2 = x_S^2\\sigma_S^2 + x_B^2\\sigma_B^2 + 2x_Sx_B\\sigma_{SB}$"
      ]
    },
    {
      "cell_type": "code",
      "metadata": {
        "colab": {
          "base_uri": "https://localhost:8080/"
        },
        "id": "cOVcwLBL_-N0",
        "outputId": "9e679f9c-00a5-43f8-8206-41ca8fb24c23"
      },
      "source": [
        "from optionval.values import volatility\r\n",
        "\r\n",
        "# Calculate a volatility of the firm’s asset with the arguments \r\n",
        "# assuming that there are only one type of common stock and one type of bond\r\n",
        "\r\n",
        "volatility(stock_sd=0.3, bond_sd=0.2, stock_weight=0.6,bond_weight=0.4, corr=0.5)"
      ],
      "execution_count": 15,
      "outputs": [
        {
          "output_type": "execute_result",
          "data": {
            "text/plain": [
              "0.2814249455894058"
            ]
          },
          "metadata": {
            "tags": []
          },
          "execution_count": 15
        }
      ]
    },
    {
      "cell_type": "markdown",
      "metadata": {
        "id": "If2NSHy7ElIh"
      },
      "source": [
        "# Binomial Trees (import optionval.trees)\r\n",
        "\r\n",
        "n = 총 단계수 / number of binomial steps   \r\n",
        "S = 주식 초기 가격 / initial stock price   \r\n",
        "K = 옵션 행사가 / strike price   \r\n",
        "r = 무위험 이자율 / risk free interest rate per annum   \r\n",
        "v = 변동성 지수 / volatility factor   \r\n",
        "t = 총 년도수 / Time to expiration date(in years)   \r\n",
        "    ex) 5개월이면 t = 5/12   \r\n",
        "Putcall = 옵션 종류 / Option Type   "
      ]
    },
    {
      "cell_type": "markdown",
      "metadata": {
        "id": "uI-l3ktYEvgK"
      },
      "source": [
        "## $P = \\frac{e^{r \\vartriangle t} - d}{u - d} $\r\n",
        "## $u = e^{\\sigma \\sqrt{\\vartriangle t}}$\r\n",
        "## $d = \\frac{1}{u}$\r\n",
        "## $\\vartriangle t = \\frac{n}{t}$"
      ]
    },
    {
      "cell_type": "code",
      "metadata": {
        "colab": {
          "base_uri": "https://localhost:8080/"
        },
        "id": "JMtI1Weh_9Jv",
        "outputId": "2730811a-0f89-4a20-b567-7226d0c78084"
      },
      "source": [
        "from optionval.trees import BinomialAmerican\r\n",
        "\r\n",
        "# Calculate American option value through binomial tree model\r\n",
        "BinomialAmerican(n=5, S=50, K=50, r=0.1, v=0.4, t=5/12, PutCall = \"P\")"
      ],
      "execution_count": 16,
      "outputs": [
        {
          "output_type": "execute_result",
          "data": {
            "text/plain": [
              "4.488458534725914"
            ]
          },
          "metadata": {
            "tags": []
          },
          "execution_count": 16
        }
      ]
    },
    {
      "cell_type": "code",
      "metadata": {
        "colab": {
          "base_uri": "https://localhost:8080/"
        },
        "id": "uF-Qc2PhBOI4",
        "outputId": "c33b47d8-b769-46bf-e343-5946297cd127"
      },
      "source": [
        "from optionval.trees import BinomialEuropean\r\n",
        "\r\n",
        "# Calculate European option value through binomial tree model \r\n",
        "BinomialEuropean(n=5, S=50, K=50, r=0.1, v=0.4, t=5/12)"
      ],
      "execution_count": 17,
      "outputs": [
        {
          "output_type": "execute_result",
          "data": {
            "text/plain": [
              "6.35954586105892"
            ]
          },
          "metadata": {
            "tags": []
          },
          "execution_count": 17
        }
      ]
    },
    {
      "cell_type": "code",
      "metadata": {
        "colab": {
          "base_uri": "https://localhost:8080/",
          "height": 295
        },
        "id": "HhuuLrFyCEbN",
        "outputId": "5db8e3be-5b32-4fb9-8f6e-da2e128f8833"
      },
      "source": [
        "from optionval.trees import BinomialAmerican_graph\r\n",
        "\r\n",
        "# Visualize American option payoff diagram (Payoff – Value of Underlying asset) through binomial tree model\r\n",
        "BinomialAmerican_graph(n=5, S=50, K=50, r=0.1, v=0.4, t=5/12, PutCall = 'C')"
      ],
      "execution_count": 18,
      "outputs": [
        {
          "output_type": "display_data",
          "data": {
            "image/png": "[encoded data removed]",
            "text/plain": [
              "<Figure size 432x288 with 1 Axes>"
            ]
          },
          "metadata": {
            "tags": [],
            "needs_background": "light"
          }
        }
      ]
    },
    {
      "cell_type": "code",
      "metadata": {
        "colab": {
          "base_uri": "https://localhost:8080/",
          "height": 295
        },
        "id": "EYirkGIUCt2l",
        "outputId": "fa964cfc-38c5-4f44-ef86-9225a588381a"
      },
      "source": [
        "from optionval.trees import BinomialEuropean_graph\r\n",
        "\r\n",
        "# Visualize European option payoff diagram (Payoff – Value of Underlying asset) through binomial tree model\r\n",
        "BinomialEuropean_graph(n=5, S=50, K=50, r=0.1, v=0.4, t=5/12, PutCall = 'C')"
      ],
      "execution_count": 19,
      "outputs": [
        {
          "output_type": "display_data",
          "data": {
            "image/png": "[encoded data removed]",
            "text/plain": [
              "<Figure size 432x288 with 1 Axes>"
            ]
          },
          "metadata": {
            "tags": [],
            "needs_background": "light"
          }
        }
      ]
    },
    {
      "cell_type": "code",
      "metadata": {
        "id": "8BUG5ReiA_m2",
        "colab": {
          "base_uri": "https://localhost:8080/",
          "height": 427
        },
        "outputId": "82a48763-f000-44a7-8c2f-900e4577911d"
      },
      "source": [
        "from optionval.trees import BinomialAmerican_tree\r\n",
        "\r\n",
        "#Visualize American option valuation process through binomial tree model\r\n",
        "BinomialAmerican_tree(3, 50, 50, 0.1, 0.4, 5/12, \"C\")"
      ],
      "execution_count": 23,
      "outputs": [
        {
          "output_type": "display_data",
          "data": {
            "image/png": "[encoded data removed]",
            "text/plain": [
              "<Figure size 504x504 with 1 Axes>"
            ]
          },
          "metadata": {
            "tags": [],
            "needs_background": "light"
          }
        }
      ]
    },
    {
      "cell_type": "code",
      "metadata": {
        "colab": {
          "base_uri": "https://localhost:8080/",
          "height": 427
        },
        "id": "PiaTPyl3o36G",
        "outputId": "095864b6-41f3-4966-e716-9b6744b0c601"
      },
      "source": [
        "from optionval.trees import BinomialEuropean_tree\r\n",
        "\r\n",
        "#Visualize European option valuation process through binomial tree model with the given arguments\r\n",
        "BinomialEuropean_tree(n=5,S=50,K=50,r=0.1,v=0.4,t=5/12, PutCall = \"P\")"
      ],
      "execution_count": 22,
      "outputs": [
        {
          "output_type": "display_data",
          "data": {
            "image/png": "[encoded data removed]",
            "text/plain": [
              "<Figure size 504x504 with 1 Axes>"
            ]
          },
          "metadata": {
            "tags": [],
            "needs_background": "light"
          }
        }
      ]
    },
    {
      "cell_type": "code",
      "metadata": {
        "id": "IIjzvN5BtH_k"
      },
      "source": [
        ""
      ],
      "execution_count": 21,
      "outputs": []
    }
  ]
}